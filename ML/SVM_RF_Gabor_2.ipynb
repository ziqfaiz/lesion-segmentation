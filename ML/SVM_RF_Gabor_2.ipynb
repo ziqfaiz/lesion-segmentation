{
 "cells": [
  {
   "cell_type": "code",
   "execution_count": 1,
   "metadata": {},
   "outputs": [],
   "source": [
    "import numpy as np\n",
    "import cv2\n",
    "import pandas as pd\n",
    "\n",
    "import pickle\n",
    "from matplotlib import pyplot as pyplot\n",
    "import os\n",
    "\n",
    "from skimage.filters import roberts,sobel,scharr, prewitt\n",
    "from scipy import ndimage as nd"
   ]
  },
  {
   "cell_type": "markdown",
   "metadata": {},
   "source": [
    "1. Function To Load Images"
   ]
  },
  {
   "cell_type": "code",
   "execution_count": 2,
   "metadata": {},
   "outputs": [],
   "source": [
    "def loadImage(input_img):\n",
    "\n",
    "    #img_path = \"train_images/\" + img_name\n",
    "    #input_img=cv2.imread(img_path,0)\n",
    "    temp_df = pd.DataFrame(columns=[\"Pixel_Values\"])\n",
    "\n",
    "    #input_img=cv2.resize(input_img, (1050, 800))\n",
    "\n",
    "    #Check if the image is RGB or grey and convert to grey if they are RGB\n",
    "    #if input_img.ndim==3 and input_img.shape[-1]==3:\n",
    "    #    img=cv2.cvtColor(input_img,cv2.COLOR_RGB2GRAY)\n",
    "    #elif input_img.dim==2:\n",
    "    #    img=input_img\n",
    "    #else:\n",
    "    #    raise Exception(\"Only work with RGB and grayscale images\")\n",
    "    \n",
    "    ###################################################################################################################################\n",
    "    # Add data into the dataframe\n",
    "    # The first feature is the pixel values\n",
    "\n",
    "    pixel_values=input_img.reshape(-1)\n",
    "    temp_df[\"Pixel_Values\"] = pixel_values\n",
    "    #temp_df[\"Image_Name\"] = [img_name]* len(temp_df)\n",
    "\n",
    "    return temp_df"
   ]
  },
  {
   "cell_type": "markdown",
   "metadata": {},
   "source": [
    "1b. Get Pixel Value Of Each Channel"
   ]
  },
  {
   "cell_type": "code",
   "execution_count": 3,
   "metadata": {},
   "outputs": [],
   "source": [
    "def channelValue(input_img):\n",
    "    \n",
    "    temp_df = pd.DataFrame(columns=[\"Blue\", \"Green\",\"Red\"])\n",
    "\n",
    "    M = np.asarray(input_img)\n",
    "\n",
    "    blue =M[:, :, 0].reshape(-1)\n",
    "    temp_df[\"Blue\"]=blue\n",
    "    green =M[:, :, 1].reshape(-1)\n",
    "    temp_df[\"Green\"]=green\n",
    "    red =M[:, :, 2].reshape(-1)\n",
    "    temp_df[\"Red\"]=red\n",
    "\n",
    "    return temp_df"
   ]
  },
  {
   "cell_type": "markdown",
   "metadata": {},
   "source": [
    "2. Function To Generate Gabor Features"
   ]
  },
  {
   "cell_type": "code",
   "execution_count": 4,
   "metadata": {},
   "outputs": [],
   "source": [
    "def gaborFeatures(img):\n",
    "    num=1\n",
    "    kernels=[]\n",
    "    #filtered_img_arr=[row[\"Image_Name\"]]\n",
    "    gabor_df=pd.DataFrame(columns=['Gabor'])\n",
    "\n",
    "    #for theta in range(2):\n",
    "    #theta = 2/4. *np.pi\n",
    "    #for sigma in (1,3):\n",
    "    #    for lamda in np.arange(0,np.pi,np.pi/4):\n",
    "    #        for gamma in (0.005,0.5):\n",
    "    #            gabor_label = 'Gabor'+str(num) #Label Gabor columns as Gabor1, Gabor2...\n",
    "    #            if gabor_label not in gabor_df.columns:\n",
    "    #                gabor_df[gabor_label]=''\n",
    "    #            ksize=9\n",
    "    #            kernel = cv2.getGaborKernel((ksize,ksize),sigma,theta,lamda,gamma,0,ktype=cv2.CV_32F)\n",
    "    #            kernels.append(kernel)\n",
    "    #            \n",
    "    #            #Filter image and add values to the column\n",
    "    #            fimg=cv2.filter2D(img,cv2.CV_8UC3,kernel)\n",
    "    #            filtered_img=fimg.reshape(-1)\n",
    "    #            #row[gabor_label]=filtered_img\n",
    "    #            gabor_df[gabor_label] = filtered_img\n",
    "    #            #filtered_img_arr.append(filtered_img)\n",
    "    #            #print(gabor_label,': theta=',theta,': sigma=',sigma,': lamda=',lamda,': gamma=',gamma)\n",
    "    #            num+=1\n",
    "\n",
    "    kernel = cv2.getGaborKernel((9,9),4/5. *np.pi,np.pi/4,0.1,0,ktype=cv2.CV_32F)\n",
    "    edges=cv2.filter2D(img,cv2.CV_8UC3,kernel)\n",
    "    edges=edges.reshape(-1)\n",
    "    gabor_df['Gabor'] = edges\n",
    "    return gabor_df"
   ]
  },
  {
   "cell_type": "markdown",
   "metadata": {},
   "source": [
    "3. Function To Generate Canny Edges"
   ]
  },
  {
   "cell_type": "code",
   "execution_count": 5,
   "metadata": {},
   "outputs": [],
   "source": [
    "def cannyEdges(img):\n",
    "\n",
    "    canny_df=pd.DataFrame(columns=['Canny'])\n",
    "    edges=cv2.Canny(img,100,200)\n",
    "    edges=edges.reshape(-1)\n",
    "     \n",
    "    canny_df['Canny'] = edges\n",
    "\n",
    "    return canny_df"
   ]
  },
  {
   "cell_type": "markdown",
   "metadata": {},
   "source": [
    "4. Function To Generate Roberts Edge"
   ]
  },
  {
   "cell_type": "code",
   "execution_count": 6,
   "metadata": {},
   "outputs": [],
   "source": [
    "def robertsEdges(img):\n",
    "\n",
    "    roberts_df=pd.DataFrame(columns=['Roberts'])\n",
    "    edges=roberts(img)\n",
    "    edges=edges.reshape(-1)\n",
    "     \n",
    "    roberts_df['Roberts'] = edges\n",
    "\n",
    "    return roberts_df"
   ]
  },
  {
   "cell_type": "markdown",
   "metadata": {},
   "source": [
    "5. Function To Generate Sobel Features"
   ]
  },
  {
   "cell_type": "code",
   "execution_count": 7,
   "metadata": {},
   "outputs": [],
   "source": [
    "def sobelEdges(img):\n",
    "\n",
    "    sobel_df=pd.DataFrame(columns=['Sobel'])\n",
    "    edges=sobel(img)\n",
    "    edges=edges.reshape(-1)\n",
    "     \n",
    "    sobel_df['Sobel'] = edges\n",
    "\n",
    "    return sobel_df"
   ]
  },
  {
   "cell_type": "markdown",
   "metadata": {},
   "source": [
    "6. Function To Generate Scharr Features"
   ]
  },
  {
   "cell_type": "code",
   "execution_count": 8,
   "metadata": {},
   "outputs": [],
   "source": [
    "def scharrEdges(img):\n",
    "\n",
    "    scharr_df=pd.DataFrame(columns=['Scharr'])\n",
    "    edges=scharr(img)\n",
    "    edges=edges.reshape(-1)\n",
    "     \n",
    "    scharr_df['Scharr'] = edges\n",
    "\n",
    "    return scharr_df"
   ]
  },
  {
   "cell_type": "markdown",
   "metadata": {},
   "source": [
    "7. Function To Generate Prewitt Filter"
   ]
  },
  {
   "cell_type": "code",
   "execution_count": 9,
   "metadata": {},
   "outputs": [],
   "source": [
    "def prewittEdges(img):\n",
    "\n",
    "    prewitt_df=pd.DataFrame(columns=['Prewitt'])\n",
    "    edges=prewitt(img)\n",
    "    edges=edges.reshape(-1)\n",
    "     \n",
    "    prewitt_df['Prewitt'] = edges\n",
    "\n",
    "    return prewitt_df"
   ]
  },
  {
   "cell_type": "markdown",
   "metadata": {},
   "source": [
    "8. Function To Generate Gaussian (sigma=3)"
   ]
  },
  {
   "cell_type": "code",
   "execution_count": 10,
   "metadata": {},
   "outputs": [],
   "source": [
    "def gaussian3Edges(img):\n",
    "\n",
    "    gaussian3_df=pd.DataFrame(columns=['Gaussian3'])\n",
    "    edges=nd.gaussian_filter(img,sigma=3)\n",
    "    edges=edges.reshape(-1)\n",
    "     \n",
    "    gaussian3_df['Gaussian3'] = edges\n",
    "\n",
    "    return gaussian3_df"
   ]
  },
  {
   "cell_type": "markdown",
   "metadata": {},
   "source": [
    "9. Function To Generate Gaussian (sigma=7)"
   ]
  },
  {
   "cell_type": "code",
   "execution_count": 11,
   "metadata": {},
   "outputs": [],
   "source": [
    "def gaussian7Edges(img):\n",
    "\n",
    "    gaussian7_df=pd.DataFrame(columns=['Gaussian7'])\n",
    "    edges=nd.gaussian_filter(img,sigma=7)\n",
    "    edges=edges.reshape(-1)\n",
    "     \n",
    "    gaussian7_df['Gaussian7'] = edges\n",
    "\n",
    "    return gaussian7_df"
   ]
  },
  {
   "cell_type": "code",
   "execution_count": 12,
   "metadata": {},
   "outputs": [
    {
     "name": "stdout",
     "output_type": "stream",
     "text": [
      "SL_001.jpg\n"
     ]
    },
    {
     "name": "stderr",
     "output_type": "stream",
     "text": [
      "/tmp/ipykernel_13043/3425384639.py:32: FutureWarning: The behavior of DataFrame concatenation with empty or all-NA entries is deprecated. In a future version, this will no longer exclude empty or all-NA columns when determining the result dtypes. To retain the old behavior, exclude the relevant entries before the concat operation.\n",
      "  roberts_df = pd.concat([roberts_df,robertsEdges(input_img)],ignore_index=True)\n",
      "/tmp/ipykernel_13043/3425384639.py:35: FutureWarning: The behavior of DataFrame concatenation with empty or all-NA entries is deprecated. In a future version, this will no longer exclude empty or all-NA columns when determining the result dtypes. To retain the old behavior, exclude the relevant entries before the concat operation.\n",
      "  sobel_df = pd.concat([sobel_df,sobelEdges(input_img)],ignore_index=True)\n",
      "/tmp/ipykernel_13043/3425384639.py:38: FutureWarning: The behavior of DataFrame concatenation with empty or all-NA entries is deprecated. In a future version, this will no longer exclude empty or all-NA columns when determining the result dtypes. To retain the old behavior, exclude the relevant entries before the concat operation.\n",
      "  scharr_df = pd.concat([scharr_df,scharrEdges(input_img)],ignore_index=True)\n",
      "/tmp/ipykernel_13043/3425384639.py:41: FutureWarning: The behavior of DataFrame concatenation with empty or all-NA entries is deprecated. In a future version, this will no longer exclude empty or all-NA columns when determining the result dtypes. To retain the old behavior, exclude the relevant entries before the concat operation.\n",
      "  prewitt_df = pd.concat([prewitt_df,prewittEdges(input_img)],ignore_index=True)\n"
     ]
    },
    {
     "name": "stdout",
     "output_type": "stream",
     "text": [
      "SL_002.jpg\n"
     ]
    },
    {
     "name": "stdout",
     "output_type": "stream",
     "text": [
      "SL_003.jpg\n",
      "SL_004.jpg\n",
      "add_022.jpg\n",
      "add_03.jpg\n",
      "add_038.jpg\n",
      "add_049.jpg\n"
     ]
    }
   ],
   "source": [
    "img_path = \"train_images/\"\n",
    "image_dataset=pd.DataFrame(columns=[\"Pixel_Values\"])\n",
    "channel_df = pd.DataFrame(columns=[\"Blue\", \"Green\",\"Red\"])\n",
    "gabor_df = pd.DataFrame(columns=['Gabor'])\n",
    "canny_df = pd.DataFrame(columns=[\"Canny\"])\n",
    "roberts_df=pd.DataFrame(columns=[\"Roberts\"])\n",
    "sobel_df=pd.DataFrame(columns=[\"Sobel\"])\n",
    "scharr_df=pd.DataFrame(columns=[\"Scharr\"])\n",
    "prewitt_df=pd.DataFrame(columns=['Prewitt'])\n",
    "gaussian3_df=pd.DataFrame(columns=['Gaussian3'])\n",
    "gaussian7_df=pd.DataFrame(columns=['Gaussian7'])\n",
    "\n",
    "for img_name in sorted(os.listdir(img_path)):\n",
    "    print(img_name)\n",
    "    input_img=cv2.imread(img_path+img_name,0)\n",
    "    input_img_bgr=cv2.imread(img_path+img_name)\n",
    "    temp_df = pd.DataFrame(columns=[\"Pixel_Values\"])\n",
    "\n",
    "    #Load data\n",
    "    image_dataset = pd.concat([image_dataset,loadImage(input_img)],ignore_index=True)\n",
    "\n",
    "    #Channel Value\n",
    "    channel_df = pd.concat([channel_df,channelValue(input_img_bgr)],ignore_index=True)\n",
    "\n",
    "    #Gabor Features\n",
    "    gabor_df = pd.concat([gabor_df,gaborFeatures(input_img)],ignore_index=True)\n",
    "\n",
    "    #Canny Edges\n",
    "    canny_df = pd.concat([canny_df,cannyEdges(input_img)],ignore_index=True)\n",
    "\n",
    "    #Roberts Edges\n",
    "    roberts_df = pd.concat([roberts_df,robertsEdges(input_img)],ignore_index=True)\n",
    "\n",
    "    #Sobel Edges\n",
    "    sobel_df = pd.concat([sobel_df,sobelEdges(input_img)],ignore_index=True)\n",
    "\n",
    "    #Scharr Edges\n",
    "    scharr_df = pd.concat([scharr_df,scharrEdges(input_img)],ignore_index=True)\n",
    "\n",
    "    #Prewitt Edges\n",
    "    prewitt_df = pd.concat([prewitt_df,prewittEdges(input_img)],ignore_index=True)\n",
    "\n",
    "    #Gaussian3 Edges\n",
    "    gaussian3_df = pd.concat([gaussian3_df,gaussian3Edges(input_img)],ignore_index=True)\n",
    "\n",
    "    #Gaussian7 Edges\n",
    "    gaussian7_df = pd.concat([gaussian7_df,gaussian7Edges(input_img)],ignore_index=True)\n",
    "\n",
    "image_dataset=pd.concat([image_dataset, gabor_df,channel_df, canny_df,roberts_df,\n",
    "                         sobel_df,scharr_df,prewitt_df,gaussian3_df,gaussian7_df], \n",
    "                         axis=1, join='outer')"
   ]
  },
  {
   "cell_type": "code",
   "execution_count": 13,
   "metadata": {},
   "outputs": [
    {
     "data": {
      "text/plain": [
       "Index(['Pixel_Values', 'Gabor', 'Blue', 'Green', 'Red', 'Canny', 'Roberts',\n",
       "       'Sobel', 'Scharr', 'Prewitt', 'Gaussian3', 'Gaussian7'],\n",
       "      dtype='object')"
      ]
     },
     "execution_count": 13,
     "metadata": {},
     "output_type": "execute_result"
    }
   ],
   "source": [
    "image_dataset.columns"
   ]
  },
  {
   "cell_type": "code",
   "execution_count": 14,
   "metadata": {},
   "outputs": [
    {
     "data": {
      "text/html": [
       "<div>\n",
       "<style scoped>\n",
       "    .dataframe tbody tr th:only-of-type {\n",
       "        vertical-align: middle;\n",
       "    }\n",
       "\n",
       "    .dataframe tbody tr th {\n",
       "        vertical-align: top;\n",
       "    }\n",
       "\n",
       "    .dataframe thead th {\n",
       "        text-align: right;\n",
       "    }\n",
       "</style>\n",
       "<table border=\"1\" class=\"dataframe\">\n",
       "  <thead>\n",
       "    <tr style=\"text-align: right;\">\n",
       "      <th></th>\n",
       "      <th>Pixel_Values</th>\n",
       "      <th>Gabor</th>\n",
       "      <th>Blue</th>\n",
       "      <th>Green</th>\n",
       "      <th>Red</th>\n",
       "      <th>Canny</th>\n",
       "      <th>Roberts</th>\n",
       "      <th>Sobel</th>\n",
       "      <th>Scharr</th>\n",
       "      <th>Prewitt</th>\n",
       "      <th>Gaussian3</th>\n",
       "      <th>Gaussian7</th>\n",
       "    </tr>\n",
       "  </thead>\n",
       "  <tbody>\n",
       "    <tr>\n",
       "      <th>0</th>\n",
       "      <td>152</td>\n",
       "      <td>0</td>\n",
       "      <td>145</td>\n",
       "      <td>151</td>\n",
       "      <td>158</td>\n",
       "      <td>0</td>\n",
       "      <td>2.630668</td>\n",
       "      <td>2.574856</td>\n",
       "      <td>2.401930</td>\n",
       "      <td>2.694727</td>\n",
       "      <td>155</td>\n",
       "      <td>155</td>\n",
       "    </tr>\n",
       "    <tr>\n",
       "      <th>1</th>\n",
       "      <td>150</td>\n",
       "      <td>0</td>\n",
       "      <td>143</td>\n",
       "      <td>149</td>\n",
       "      <td>156</td>\n",
       "      <td>0</td>\n",
       "      <td>1.386484</td>\n",
       "      <td>1.637898</td>\n",
       "      <td>1.620275</td>\n",
       "      <td>1.590198</td>\n",
       "      <td>155</td>\n",
       "      <td>155</td>\n",
       "    </tr>\n",
       "    <tr>\n",
       "      <th>2</th>\n",
       "      <td>155</td>\n",
       "      <td>0</td>\n",
       "      <td>148</td>\n",
       "      <td>153</td>\n",
       "      <td>162</td>\n",
       "      <td>0</td>\n",
       "      <td>0.277297</td>\n",
       "      <td>1.704361</td>\n",
       "      <td>1.683352</td>\n",
       "      <td>1.653409</td>\n",
       "      <td>155</td>\n",
       "      <td>155</td>\n",
       "    </tr>\n",
       "    <tr>\n",
       "      <th>3</th>\n",
       "      <td>156</td>\n",
       "      <td>0</td>\n",
       "      <td>149</td>\n",
       "      <td>154</td>\n",
       "      <td>163</td>\n",
       "      <td>0</td>\n",
       "      <td>1.176471</td>\n",
       "      <td>1.020944</td>\n",
       "      <td>0.971416</td>\n",
       "      <td>1.045708</td>\n",
       "      <td>155</td>\n",
       "      <td>155</td>\n",
       "    </tr>\n",
       "    <tr>\n",
       "      <th>4</th>\n",
       "      <td>152</td>\n",
       "      <td>0</td>\n",
       "      <td>145</td>\n",
       "      <td>150</td>\n",
       "      <td>159</td>\n",
       "      <td>0</td>\n",
       "      <td>0.876889</td>\n",
       "      <td>0.584591</td>\n",
       "      <td>0.594199</td>\n",
       "      <td>0.538945</td>\n",
       "      <td>154</td>\n",
       "      <td>155</td>\n",
       "    </tr>\n",
       "    <tr>\n",
       "      <th>...</th>\n",
       "      <td>...</td>\n",
       "      <td>...</td>\n",
       "      <td>...</td>\n",
       "      <td>...</td>\n",
       "      <td>...</td>\n",
       "      <td>...</td>\n",
       "      <td>...</td>\n",
       "      <td>...</td>\n",
       "      <td>...</td>\n",
       "      <td>...</td>\n",
       "      <td>...</td>\n",
       "      <td>...</td>\n",
       "    </tr>\n",
       "    <tr>\n",
       "      <th>10628419</th>\n",
       "      <td>203</td>\n",
       "      <td>0</td>\n",
       "      <td>185</td>\n",
       "      <td>205</td>\n",
       "      <td>206</td>\n",
       "      <td>0</td>\n",
       "      <td>0.784314</td>\n",
       "      <td>1.461477</td>\n",
       "      <td>1.390578</td>\n",
       "      <td>1.490363</td>\n",
       "      <td>200</td>\n",
       "      <td>199</td>\n",
       "    </tr>\n",
       "    <tr>\n",
       "      <th>10628420</th>\n",
       "      <td>201</td>\n",
       "      <td>0</td>\n",
       "      <td>183</td>\n",
       "      <td>202</td>\n",
       "      <td>205</td>\n",
       "      <td>0</td>\n",
       "      <td>0.392157</td>\n",
       "      <td>1.116859</td>\n",
       "      <td>1.041924</td>\n",
       "      <td>1.169137</td>\n",
       "      <td>200</td>\n",
       "      <td>199</td>\n",
       "    </tr>\n",
       "    <tr>\n",
       "      <th>10628421</th>\n",
       "      <td>200</td>\n",
       "      <td>0</td>\n",
       "      <td>182</td>\n",
       "      <td>201</td>\n",
       "      <td>204</td>\n",
       "      <td>0</td>\n",
       "      <td>0.784314</td>\n",
       "      <td>0.584591</td>\n",
       "      <td>0.515474</td>\n",
       "      <td>0.666511</td>\n",
       "      <td>200</td>\n",
       "      <td>199</td>\n",
       "    </tr>\n",
       "    <tr>\n",
       "      <th>10628422</th>\n",
       "      <td>202</td>\n",
       "      <td>0</td>\n",
       "      <td>183</td>\n",
       "      <td>203</td>\n",
       "      <td>208</td>\n",
       "      <td>0</td>\n",
       "      <td>1.176471</td>\n",
       "      <td>1.834722</td>\n",
       "      <td>1.762316</td>\n",
       "      <td>1.848568</td>\n",
       "      <td>200</td>\n",
       "      <td>199</td>\n",
       "    </tr>\n",
       "    <tr>\n",
       "      <th>10628423</th>\n",
       "      <td>205</td>\n",
       "      <td>0</td>\n",
       "      <td>186</td>\n",
       "      <td>206</td>\n",
       "      <td>211</td>\n",
       "      <td>0</td>\n",
       "      <td>0.000000</td>\n",
       "      <td>2.111822</td>\n",
       "      <td>2.033680</td>\n",
       "      <td>2.111741</td>\n",
       "      <td>200</td>\n",
       "      <td>199</td>\n",
       "    </tr>\n",
       "  </tbody>\n",
       "</table>\n",
       "<p>10628424 rows × 12 columns</p>\n",
       "</div>"
      ],
      "text/plain": [
       "         Pixel_Values Gabor Blue Green  Red Canny   Roberts     Sobel  \\\n",
       "0                 152     0  145   151  158     0  2.630668  2.574856   \n",
       "1                 150     0  143   149  156     0  1.386484  1.637898   \n",
       "2                 155     0  148   153  162     0  0.277297  1.704361   \n",
       "3                 156     0  149   154  163     0  1.176471  1.020944   \n",
       "4                 152     0  145   150  159     0  0.876889  0.584591   \n",
       "...               ...   ...  ...   ...  ...   ...       ...       ...   \n",
       "10628419          203     0  185   205  206     0  0.784314  1.461477   \n",
       "10628420          201     0  183   202  205     0  0.392157  1.116859   \n",
       "10628421          200     0  182   201  204     0  0.784314  0.584591   \n",
       "10628422          202     0  183   203  208     0  1.176471  1.834722   \n",
       "10628423          205     0  186   206  211     0  0.000000  2.111822   \n",
       "\n",
       "            Scharr   Prewitt Gaussian3 Gaussian7  \n",
       "0         2.401930  2.694727       155       155  \n",
       "1         1.620275  1.590198       155       155  \n",
       "2         1.683352  1.653409       155       155  \n",
       "3         0.971416  1.045708       155       155  \n",
       "4         0.594199  0.538945       154       155  \n",
       "...            ...       ...       ...       ...  \n",
       "10628419  1.390578  1.490363       200       199  \n",
       "10628420  1.041924  1.169137       200       199  \n",
       "10628421  0.515474  0.666511       200       199  \n",
       "10628422  1.762316  1.848568       200       199  \n",
       "10628423  2.033680  2.111741       200       199  \n",
       "\n",
       "[10628424 rows x 12 columns]"
      ]
     },
     "execution_count": 14,
     "metadata": {},
     "output_type": "execute_result"
    }
   ],
   "source": [
    "#Normalize Roberts Sobel Scharr and Prewitt\n",
    "image_dataset[\"Roberts\"] = (image_dataset[\"Roberts\"] /image_dataset[\"Roberts\"].abs().max()) * 100\n",
    "image_dataset[\"Sobel\"] = (image_dataset[\"Sobel\"] /image_dataset[\"Sobel\"].abs().max()) * 100\n",
    "image_dataset[\"Scharr\"] = (image_dataset[\"Scharr\"] /image_dataset[\"Scharr\"].abs().max()) * 100\n",
    "image_dataset[\"Prewitt\"] = (image_dataset[\"Prewitt\"] /image_dataset[\"Prewitt\"].abs().max()) * 100\n",
    "image_dataset"
   ]
  },
  {
   "cell_type": "markdown",
   "metadata": {},
   "source": [
    "10. Load Masks"
   ]
  },
  {
   "cell_type": "code",
   "execution_count": 15,
   "metadata": {},
   "outputs": [],
   "source": [
    "def loadMask(input_img):\n",
    "\n",
    "    #img_path = \"train_images/\" + img_name\n",
    "    #input_img=cv2.imread(img_path)\n",
    "    temp_df = pd.DataFrame(columns=[\"Mask_Values\"])\n",
    "\n",
    "    #input_img=cv2.resize(input_img, (1050, 800))\n",
    "\n",
    "    #Check if the image is RGB or grey and convert to grey if they are RGB\n",
    "    #if input_img.ndim==3 and input_img.shape[-1]==3:\n",
    "    #    img=cv2.cvtColor(input_img,cv2.COLOR_RGB2GRAY)\n",
    "    #elif input_img.dim==2:\n",
    "    #    img=input_img\n",
    "    #else:\n",
    "    #    raise Exception(\"Only work with RGB and grayscale images\")\n",
    "    \n",
    "    ###################################################################################################################################\n",
    "    # Add data into the dataframe\n",
    "    # The first feature is the pixel values\n",
    "\n",
    "    pixel_values=input_img.reshape(-1)\n",
    "    temp_df[\"Mask_Values\"] = pixel_values\n",
    "    #temp_df[\"Image_Name\"] = [img_name]* len(temp_df)\n",
    "\n",
    "    return temp_df\n"
   ]
  },
  {
   "cell_type": "code",
   "execution_count": 16,
   "metadata": {},
   "outputs": [
    {
     "name": "stdout",
     "output_type": "stream",
     "text": [
      "SL_GT_001.png\n",
      "SL_GT_002.png\n",
      "SL_GT_003.png\n",
      "SL_GT_004.png\n",
      "add_022.png\n",
      "add_03.png\n",
      "add_038.png\n",
      "add_049.png\n"
     ]
    }
   ],
   "source": [
    "img_path = \"train_masks/\"\n",
    "mask_dataset=pd.DataFrame(columns=[\"Mask_Values\"])\n",
    "\n",
    "for img_name in sorted(os.listdir(img_path)):\n",
    "    print(img_name)\n",
    "    input_img=cv2.imread(img_path+img_name,0)\n",
    "    temp_df = pd.DataFrame(columns=[\"Mask_Values\"])\n",
    "\n",
    "    #Load data\n",
    "    mask_dataset = pd.concat([mask_dataset,loadMask(input_img)],ignore_index=True)\n",
    "\n",
    "\n",
    "#image_dataset=pd.concat([image_dataset, gabor_df], axis=1, join='outer')\n",
    "#image_dataset=pd.concat([image_dataset, mask_dataset], axis=1, join='outer')"
   ]
  },
  {
   "cell_type": "code",
   "execution_count": 17,
   "metadata": {},
   "outputs": [],
   "source": [
    "image_dataset=pd.concat([image_dataset, mask_dataset], axis=1, join='outer')"
   ]
  },
  {
   "cell_type": "code",
   "execution_count": 18,
   "metadata": {},
   "outputs": [
    {
     "data": {
      "text/plain": [
       "Pixel_Values     object\n",
       "Gabor            object\n",
       "Blue             object\n",
       "Green            object\n",
       "Red              object\n",
       "Canny            object\n",
       "Roberts         float64\n",
       "Sobel           float64\n",
       "Scharr          float64\n",
       "Prewitt         float64\n",
       "Gaussian3        object\n",
       "Gaussian7        object\n",
       "Mask_Values      object\n",
       "dtype: object"
      ]
     },
     "execution_count": 18,
     "metadata": {},
     "output_type": "execute_result"
    }
   ],
   "source": [
    "image_dataset.dtypes"
   ]
  },
  {
   "cell_type": "code",
   "execution_count": 19,
   "metadata": {},
   "outputs": [],
   "source": [
    "image_dataset=image_dataset.astype('int')"
   ]
  },
  {
   "cell_type": "code",
   "execution_count": 20,
   "metadata": {},
   "outputs": [
    {
     "data": {
      "text/plain": [
       "Pixel_Values    int64\n",
       "Gabor           int64\n",
       "Blue            int64\n",
       "Green           int64\n",
       "Red             int64\n",
       "Canny           int64\n",
       "Roberts         int64\n",
       "Sobel           int64\n",
       "Scharr          int64\n",
       "Prewitt         int64\n",
       "Gaussian3       int64\n",
       "Gaussian7       int64\n",
       "Mask_Values     int64\n",
       "dtype: object"
      ]
     },
     "execution_count": 20,
     "metadata": {},
     "output_type": "execute_result"
    }
   ],
   "source": [
    "image_dataset.dtypes"
   ]
  },
  {
   "cell_type": "code",
   "execution_count": 21,
   "metadata": {},
   "outputs": [
    {
     "data": {
      "text/html": [
       "<div>\n",
       "<style scoped>\n",
       "    .dataframe tbody tr th:only-of-type {\n",
       "        vertical-align: middle;\n",
       "    }\n",
       "\n",
       "    .dataframe tbody tr th {\n",
       "        vertical-align: top;\n",
       "    }\n",
       "\n",
       "    .dataframe thead th {\n",
       "        text-align: right;\n",
       "    }\n",
       "</style>\n",
       "<table border=\"1\" class=\"dataframe\">\n",
       "  <thead>\n",
       "    <tr style=\"text-align: right;\">\n",
       "      <th></th>\n",
       "      <th>Pixel_Values</th>\n",
       "      <th>Gabor</th>\n",
       "      <th>Blue</th>\n",
       "      <th>Green</th>\n",
       "      <th>Red</th>\n",
       "      <th>Canny</th>\n",
       "      <th>Roberts</th>\n",
       "      <th>Sobel</th>\n",
       "      <th>Scharr</th>\n",
       "      <th>Prewitt</th>\n",
       "      <th>Gaussian3</th>\n",
       "      <th>Gaussian7</th>\n",
       "      <th>Mask_Values</th>\n",
       "    </tr>\n",
       "  </thead>\n",
       "  <tbody>\n",
       "    <tr>\n",
       "      <th>0</th>\n",
       "      <td>152</td>\n",
       "      <td>0</td>\n",
       "      <td>145</td>\n",
       "      <td>151</td>\n",
       "      <td>158</td>\n",
       "      <td>0</td>\n",
       "      <td>2</td>\n",
       "      <td>2</td>\n",
       "      <td>2</td>\n",
       "      <td>2</td>\n",
       "      <td>155</td>\n",
       "      <td>155</td>\n",
       "      <td>0</td>\n",
       "    </tr>\n",
       "    <tr>\n",
       "      <th>1</th>\n",
       "      <td>150</td>\n",
       "      <td>0</td>\n",
       "      <td>143</td>\n",
       "      <td>149</td>\n",
       "      <td>156</td>\n",
       "      <td>0</td>\n",
       "      <td>1</td>\n",
       "      <td>1</td>\n",
       "      <td>1</td>\n",
       "      <td>1</td>\n",
       "      <td>155</td>\n",
       "      <td>155</td>\n",
       "      <td>0</td>\n",
       "    </tr>\n",
       "    <tr>\n",
       "      <th>2</th>\n",
       "      <td>155</td>\n",
       "      <td>0</td>\n",
       "      <td>148</td>\n",
       "      <td>153</td>\n",
       "      <td>162</td>\n",
       "      <td>0</td>\n",
       "      <td>0</td>\n",
       "      <td>1</td>\n",
       "      <td>1</td>\n",
       "      <td>1</td>\n",
       "      <td>155</td>\n",
       "      <td>155</td>\n",
       "      <td>0</td>\n",
       "    </tr>\n",
       "    <tr>\n",
       "      <th>3</th>\n",
       "      <td>156</td>\n",
       "      <td>0</td>\n",
       "      <td>149</td>\n",
       "      <td>154</td>\n",
       "      <td>163</td>\n",
       "      <td>0</td>\n",
       "      <td>1</td>\n",
       "      <td>1</td>\n",
       "      <td>0</td>\n",
       "      <td>1</td>\n",
       "      <td>155</td>\n",
       "      <td>155</td>\n",
       "      <td>0</td>\n",
       "    </tr>\n",
       "    <tr>\n",
       "      <th>4</th>\n",
       "      <td>152</td>\n",
       "      <td>0</td>\n",
       "      <td>145</td>\n",
       "      <td>150</td>\n",
       "      <td>159</td>\n",
       "      <td>0</td>\n",
       "      <td>0</td>\n",
       "      <td>0</td>\n",
       "      <td>0</td>\n",
       "      <td>0</td>\n",
       "      <td>154</td>\n",
       "      <td>155</td>\n",
       "      <td>0</td>\n",
       "    </tr>\n",
       "    <tr>\n",
       "      <th>...</th>\n",
       "      <td>...</td>\n",
       "      <td>...</td>\n",
       "      <td>...</td>\n",
       "      <td>...</td>\n",
       "      <td>...</td>\n",
       "      <td>...</td>\n",
       "      <td>...</td>\n",
       "      <td>...</td>\n",
       "      <td>...</td>\n",
       "      <td>...</td>\n",
       "      <td>...</td>\n",
       "      <td>...</td>\n",
       "      <td>...</td>\n",
       "    </tr>\n",
       "    <tr>\n",
       "      <th>10628419</th>\n",
       "      <td>203</td>\n",
       "      <td>0</td>\n",
       "      <td>185</td>\n",
       "      <td>205</td>\n",
       "      <td>206</td>\n",
       "      <td>0</td>\n",
       "      <td>0</td>\n",
       "      <td>1</td>\n",
       "      <td>1</td>\n",
       "      <td>1</td>\n",
       "      <td>200</td>\n",
       "      <td>199</td>\n",
       "      <td>0</td>\n",
       "    </tr>\n",
       "    <tr>\n",
       "      <th>10628420</th>\n",
       "      <td>201</td>\n",
       "      <td>0</td>\n",
       "      <td>183</td>\n",
       "      <td>202</td>\n",
       "      <td>205</td>\n",
       "      <td>0</td>\n",
       "      <td>0</td>\n",
       "      <td>1</td>\n",
       "      <td>1</td>\n",
       "      <td>1</td>\n",
       "      <td>200</td>\n",
       "      <td>199</td>\n",
       "      <td>0</td>\n",
       "    </tr>\n",
       "    <tr>\n",
       "      <th>10628421</th>\n",
       "      <td>200</td>\n",
       "      <td>0</td>\n",
       "      <td>182</td>\n",
       "      <td>201</td>\n",
       "      <td>204</td>\n",
       "      <td>0</td>\n",
       "      <td>0</td>\n",
       "      <td>0</td>\n",
       "      <td>0</td>\n",
       "      <td>0</td>\n",
       "      <td>200</td>\n",
       "      <td>199</td>\n",
       "      <td>0</td>\n",
       "    </tr>\n",
       "    <tr>\n",
       "      <th>10628422</th>\n",
       "      <td>202</td>\n",
       "      <td>0</td>\n",
       "      <td>183</td>\n",
       "      <td>203</td>\n",
       "      <td>208</td>\n",
       "      <td>0</td>\n",
       "      <td>1</td>\n",
       "      <td>1</td>\n",
       "      <td>1</td>\n",
       "      <td>1</td>\n",
       "      <td>200</td>\n",
       "      <td>199</td>\n",
       "      <td>0</td>\n",
       "    </tr>\n",
       "    <tr>\n",
       "      <th>10628423</th>\n",
       "      <td>205</td>\n",
       "      <td>0</td>\n",
       "      <td>186</td>\n",
       "      <td>206</td>\n",
       "      <td>211</td>\n",
       "      <td>0</td>\n",
       "      <td>0</td>\n",
       "      <td>2</td>\n",
       "      <td>2</td>\n",
       "      <td>2</td>\n",
       "      <td>200</td>\n",
       "      <td>199</td>\n",
       "      <td>0</td>\n",
       "    </tr>\n",
       "  </tbody>\n",
       "</table>\n",
       "<p>10628424 rows × 13 columns</p>\n",
       "</div>"
      ],
      "text/plain": [
       "          Pixel_Values  Gabor  Blue  Green  Red  Canny  Roberts  Sobel  \\\n",
       "0                  152      0   145    151  158      0        2      2   \n",
       "1                  150      0   143    149  156      0        1      1   \n",
       "2                  155      0   148    153  162      0        0      1   \n",
       "3                  156      0   149    154  163      0        1      1   \n",
       "4                  152      0   145    150  159      0        0      0   \n",
       "...                ...    ...   ...    ...  ...    ...      ...    ...   \n",
       "10628419           203      0   185    205  206      0        0      1   \n",
       "10628420           201      0   183    202  205      0        0      1   \n",
       "10628421           200      0   182    201  204      0        0      0   \n",
       "10628422           202      0   183    203  208      0        1      1   \n",
       "10628423           205      0   186    206  211      0        0      2   \n",
       "\n",
       "          Scharr  Prewitt  Gaussian3  Gaussian7  Mask_Values  \n",
       "0              2        2        155        155            0  \n",
       "1              1        1        155        155            0  \n",
       "2              1        1        155        155            0  \n",
       "3              0        1        155        155            0  \n",
       "4              0        0        154        155            0  \n",
       "...          ...      ...        ...        ...          ...  \n",
       "10628419       1        1        200        199            0  \n",
       "10628420       1        1        200        199            0  \n",
       "10628421       0        0        200        199            0  \n",
       "10628422       1        1        200        199            0  \n",
       "10628423       2        2        200        199            0  \n",
       "\n",
       "[10628424 rows x 13 columns]"
      ]
     },
     "execution_count": 21,
     "metadata": {},
     "output_type": "execute_result"
    }
   ],
   "source": [
    "image_dataset"
   ]
  },
  {
   "cell_type": "markdown",
   "metadata": {},
   "source": [
    "11. Assign Training and Test Dataset"
   ]
  },
  {
   "cell_type": "code",
   "execution_count": 22,
   "metadata": {},
   "outputs": [
    {
     "data": {
      "text/plain": [
       "Index(['Pixel_Values', 'Gabor', 'Blue', 'Green', 'Red', 'Canny', 'Roberts',\n",
       "       'Sobel', 'Scharr', 'Prewitt', 'Gaussian3', 'Gaussian7'],\n",
       "      dtype='object')"
      ]
     },
     "execution_count": 22,
     "metadata": {},
     "output_type": "execute_result"
    }
   ],
   "source": [
    "X=image_dataset.drop([\"Mask_Values\"],axis=1)\n",
    "X.columns"
   ]
  },
  {
   "cell_type": "code",
   "execution_count": 23,
   "metadata": {},
   "outputs": [],
   "source": [
    "y=image_dataset[[\"Mask_Values\"]]"
   ]
  },
  {
   "cell_type": "code",
   "execution_count": 24,
   "metadata": {},
   "outputs": [],
   "source": [
    "from sklearn.model_selection import train_test_split\n",
    "\n",
    "X_train, X_test, y_train, y_test = train_test_split(X,y[\"Mask_Values\"],test_size=0.2,random_state=20)"
   ]
  },
  {
   "cell_type": "code",
   "execution_count": 25,
   "metadata": {},
   "outputs": [
    {
     "data": {
      "text/html": [
       "<div>\n",
       "<style scoped>\n",
       "    .dataframe tbody tr th:only-of-type {\n",
       "        vertical-align: middle;\n",
       "    }\n",
       "\n",
       "    .dataframe tbody tr th {\n",
       "        vertical-align: top;\n",
       "    }\n",
       "\n",
       "    .dataframe thead th {\n",
       "        text-align: right;\n",
       "    }\n",
       "</style>\n",
       "<table border=\"1\" class=\"dataframe\">\n",
       "  <thead>\n",
       "    <tr style=\"text-align: right;\">\n",
       "      <th></th>\n",
       "      <th>Pixel_Values</th>\n",
       "      <th>Gabor</th>\n",
       "      <th>Blue</th>\n",
       "      <th>Green</th>\n",
       "      <th>Red</th>\n",
       "      <th>Canny</th>\n",
       "      <th>Roberts</th>\n",
       "      <th>Sobel</th>\n",
       "      <th>Scharr</th>\n",
       "      <th>Prewitt</th>\n",
       "      <th>Gaussian3</th>\n",
       "      <th>Gaussian7</th>\n",
       "    </tr>\n",
       "  </thead>\n",
       "  <tbody>\n",
       "    <tr>\n",
       "      <th>4681376</th>\n",
       "      <td>181</td>\n",
       "      <td>0</td>\n",
       "      <td>177</td>\n",
       "      <td>177</td>\n",
       "      <td>189</td>\n",
       "      <td>0</td>\n",
       "      <td>0</td>\n",
       "      <td>0</td>\n",
       "      <td>0</td>\n",
       "      <td>0</td>\n",
       "      <td>180</td>\n",
       "      <td>179</td>\n",
       "    </tr>\n",
       "    <tr>\n",
       "      <th>4758659</th>\n",
       "      <td>88</td>\n",
       "      <td>63</td>\n",
       "      <td>93</td>\n",
       "      <td>77</td>\n",
       "      <td>108</td>\n",
       "      <td>0</td>\n",
       "      <td>1</td>\n",
       "      <td>1</td>\n",
       "      <td>1</td>\n",
       "      <td>0</td>\n",
       "      <td>101</td>\n",
       "      <td>123</td>\n",
       "    </tr>\n",
       "    <tr>\n",
       "      <th>4351712</th>\n",
       "      <td>179</td>\n",
       "      <td>18</td>\n",
       "      <td>179</td>\n",
       "      <td>174</td>\n",
       "      <td>189</td>\n",
       "      <td>0</td>\n",
       "      <td>0</td>\n",
       "      <td>0</td>\n",
       "      <td>0</td>\n",
       "      <td>0</td>\n",
       "      <td>178</td>\n",
       "      <td>179</td>\n",
       "    </tr>\n",
       "    <tr>\n",
       "      <th>9866993</th>\n",
       "      <td>177</td>\n",
       "      <td>22</td>\n",
       "      <td>136</td>\n",
       "      <td>176</td>\n",
       "      <td>195</td>\n",
       "      <td>255</td>\n",
       "      <td>6</td>\n",
       "      <td>13</td>\n",
       "      <td>12</td>\n",
       "      <td>14</td>\n",
       "      <td>161</td>\n",
       "      <td>157</td>\n",
       "    </tr>\n",
       "    <tr>\n",
       "      <th>6134978</th>\n",
       "      <td>113</td>\n",
       "      <td>133</td>\n",
       "      <td>62</td>\n",
       "      <td>102</td>\n",
       "      <td>155</td>\n",
       "      <td>0</td>\n",
       "      <td>1</td>\n",
       "      <td>2</td>\n",
       "      <td>2</td>\n",
       "      <td>3</td>\n",
       "      <td>107</td>\n",
       "      <td>103</td>\n",
       "    </tr>\n",
       "    <tr>\n",
       "      <th>...</th>\n",
       "      <td>...</td>\n",
       "      <td>...</td>\n",
       "      <td>...</td>\n",
       "      <td>...</td>\n",
       "      <td>...</td>\n",
       "      <td>...</td>\n",
       "      <td>...</td>\n",
       "      <td>...</td>\n",
       "      <td>...</td>\n",
       "      <td>...</td>\n",
       "      <td>...</td>\n",
       "      <td>...</td>\n",
       "    </tr>\n",
       "    <tr>\n",
       "      <th>1697172</th>\n",
       "      <td>173</td>\n",
       "      <td>10</td>\n",
       "      <td>178</td>\n",
       "      <td>172</td>\n",
       "      <td>173</td>\n",
       "      <td>0</td>\n",
       "      <td>0</td>\n",
       "      <td>0</td>\n",
       "      <td>0</td>\n",
       "      <td>0</td>\n",
       "      <td>172</td>\n",
       "      <td>172</td>\n",
       "    </tr>\n",
       "    <tr>\n",
       "      <th>3890076</th>\n",
       "      <td>162</td>\n",
       "      <td>0</td>\n",
       "      <td>160</td>\n",
       "      <td>157</td>\n",
       "      <td>173</td>\n",
       "      <td>0</td>\n",
       "      <td>0</td>\n",
       "      <td>0</td>\n",
       "      <td>0</td>\n",
       "      <td>0</td>\n",
       "      <td>160</td>\n",
       "      <td>161</td>\n",
       "    </tr>\n",
       "    <tr>\n",
       "      <th>5528799</th>\n",
       "      <td>104</td>\n",
       "      <td>0</td>\n",
       "      <td>58</td>\n",
       "      <td>91</td>\n",
       "      <td>147</td>\n",
       "      <td>0</td>\n",
       "      <td>0</td>\n",
       "      <td>0</td>\n",
       "      <td>0</td>\n",
       "      <td>0</td>\n",
       "      <td>103</td>\n",
       "      <td>101</td>\n",
       "    </tr>\n",
       "    <tr>\n",
       "      <th>2976218</th>\n",
       "      <td>198</td>\n",
       "      <td>7</td>\n",
       "      <td>196</td>\n",
       "      <td>194</td>\n",
       "      <td>206</td>\n",
       "      <td>0</td>\n",
       "      <td>0</td>\n",
       "      <td>0</td>\n",
       "      <td>0</td>\n",
       "      <td>0</td>\n",
       "      <td>198</td>\n",
       "      <td>196</td>\n",
       "    </tr>\n",
       "    <tr>\n",
       "      <th>9420131</th>\n",
       "      <td>168</td>\n",
       "      <td>7</td>\n",
       "      <td>149</td>\n",
       "      <td>168</td>\n",
       "      <td>176</td>\n",
       "      <td>0</td>\n",
       "      <td>0</td>\n",
       "      <td>0</td>\n",
       "      <td>0</td>\n",
       "      <td>0</td>\n",
       "      <td>166</td>\n",
       "      <td>165</td>\n",
       "    </tr>\n",
       "  </tbody>\n",
       "</table>\n",
       "<p>8502739 rows × 12 columns</p>\n",
       "</div>"
      ],
      "text/plain": [
       "         Pixel_Values  Gabor  Blue  Green  Red  Canny  Roberts  Sobel  Scharr  \\\n",
       "4681376           181      0   177    177  189      0        0      0       0   \n",
       "4758659            88     63    93     77  108      0        1      1       1   \n",
       "4351712           179     18   179    174  189      0        0      0       0   \n",
       "9866993           177     22   136    176  195    255        6     13      12   \n",
       "6134978           113    133    62    102  155      0        1      2       2   \n",
       "...               ...    ...   ...    ...  ...    ...      ...    ...     ...   \n",
       "1697172           173     10   178    172  173      0        0      0       0   \n",
       "3890076           162      0   160    157  173      0        0      0       0   \n",
       "5528799           104      0    58     91  147      0        0      0       0   \n",
       "2976218           198      7   196    194  206      0        0      0       0   \n",
       "9420131           168      7   149    168  176      0        0      0       0   \n",
       "\n",
       "         Prewitt  Gaussian3  Gaussian7  \n",
       "4681376        0        180        179  \n",
       "4758659        0        101        123  \n",
       "4351712        0        178        179  \n",
       "9866993       14        161        157  \n",
       "6134978        3        107        103  \n",
       "...          ...        ...        ...  \n",
       "1697172        0        172        172  \n",
       "3890076        0        160        161  \n",
       "5528799        0        103        101  \n",
       "2976218        0        198        196  \n",
       "9420131        0        166        165  \n",
       "\n",
       "[8502739 rows x 12 columns]"
      ]
     },
     "execution_count": 25,
     "metadata": {},
     "output_type": "execute_result"
    }
   ],
   "source": [
    "X_train"
   ]
  },
  {
   "cell_type": "code",
   "execution_count": 26,
   "metadata": {},
   "outputs": [
    {
     "data": {
      "text/plain": [
       "4681376      0\n",
       "4758659      0\n",
       "4351712      0\n",
       "9866993      0\n",
       "6134978    255\n",
       "          ... \n",
       "1697172      0\n",
       "3890076      0\n",
       "5528799    255\n",
       "2976218      0\n",
       "9420131    255\n",
       "Name: Mask_Values, Length: 8502739, dtype: int64"
      ]
     },
     "execution_count": 26,
     "metadata": {},
     "output_type": "execute_result"
    }
   ],
   "source": [
    "y_train"
   ]
  },
  {
   "cell_type": "markdown",
   "metadata": {},
   "source": [
    "12. Build and Fit Random Forest Model"
   ]
  },
  {
   "cell_type": "code",
   "execution_count": 27,
   "metadata": {},
   "outputs": [
    {
     "data": {
      "text/html": [
       "<style>#sk-container-id-1 {color: black;}#sk-container-id-1 pre{padding: 0;}#sk-container-id-1 div.sk-toggleable {background-color: white;}#sk-container-id-1 label.sk-toggleable__label {cursor: pointer;display: block;width: 100%;margin-bottom: 0;padding: 0.3em;box-sizing: border-box;text-align: center;}#sk-container-id-1 label.sk-toggleable__label-arrow:before {content: \"▸\";float: left;margin-right: 0.25em;color: #696969;}#sk-container-id-1 label.sk-toggleable__label-arrow:hover:before {color: black;}#sk-container-id-1 div.sk-estimator:hover label.sk-toggleable__label-arrow:before {color: black;}#sk-container-id-1 div.sk-toggleable__content {max-height: 0;max-width: 0;overflow: hidden;text-align: left;background-color: #f0f8ff;}#sk-container-id-1 div.sk-toggleable__content pre {margin: 0.2em;color: black;border-radius: 0.25em;background-color: #f0f8ff;}#sk-container-id-1 input.sk-toggleable__control:checked~div.sk-toggleable__content {max-height: 200px;max-width: 100%;overflow: auto;}#sk-container-id-1 input.sk-toggleable__control:checked~label.sk-toggleable__label-arrow:before {content: \"▾\";}#sk-container-id-1 div.sk-estimator input.sk-toggleable__control:checked~label.sk-toggleable__label {background-color: #d4ebff;}#sk-container-id-1 div.sk-label input.sk-toggleable__control:checked~label.sk-toggleable__label {background-color: #d4ebff;}#sk-container-id-1 input.sk-hidden--visually {border: 0;clip: rect(1px 1px 1px 1px);clip: rect(1px, 1px, 1px, 1px);height: 1px;margin: -1px;overflow: hidden;padding: 0;position: absolute;width: 1px;}#sk-container-id-1 div.sk-estimator {font-family: monospace;background-color: #f0f8ff;border: 1px dotted black;border-radius: 0.25em;box-sizing: border-box;margin-bottom: 0.5em;}#sk-container-id-1 div.sk-estimator:hover {background-color: #d4ebff;}#sk-container-id-1 div.sk-parallel-item::after {content: \"\";width: 100%;border-bottom: 1px solid gray;flex-grow: 1;}#sk-container-id-1 div.sk-label:hover label.sk-toggleable__label {background-color: #d4ebff;}#sk-container-id-1 div.sk-serial::before {content: \"\";position: absolute;border-left: 1px solid gray;box-sizing: border-box;top: 0;bottom: 0;left: 50%;z-index: 0;}#sk-container-id-1 div.sk-serial {display: flex;flex-direction: column;align-items: center;background-color: white;padding-right: 0.2em;padding-left: 0.2em;position: relative;}#sk-container-id-1 div.sk-item {position: relative;z-index: 1;}#sk-container-id-1 div.sk-parallel {display: flex;align-items: stretch;justify-content: center;background-color: white;position: relative;}#sk-container-id-1 div.sk-item::before, #sk-container-id-1 div.sk-parallel-item::before {content: \"\";position: absolute;border-left: 1px solid gray;box-sizing: border-box;top: 0;bottom: 0;left: 50%;z-index: -1;}#sk-container-id-1 div.sk-parallel-item {display: flex;flex-direction: column;z-index: 1;position: relative;background-color: white;}#sk-container-id-1 div.sk-parallel-item:first-child::after {align-self: flex-end;width: 50%;}#sk-container-id-1 div.sk-parallel-item:last-child::after {align-self: flex-start;width: 50%;}#sk-container-id-1 div.sk-parallel-item:only-child::after {width: 0;}#sk-container-id-1 div.sk-dashed-wrapped {border: 1px dashed gray;margin: 0 0.4em 0.5em 0.4em;box-sizing: border-box;padding-bottom: 0.4em;background-color: white;}#sk-container-id-1 div.sk-label label {font-family: monospace;font-weight: bold;display: inline-block;line-height: 1.2em;}#sk-container-id-1 div.sk-label-container {text-align: center;}#sk-container-id-1 div.sk-container {/* jupyter's `normalize.less` sets `[hidden] { display: none; }` but bootstrap.min.css set `[hidden] { display: none !important; }` so we also need the `!important` here to be able to override the default hidden behavior on the sphinx rendered scikit-learn.org. See: https://github.com/scikit-learn/scikit-learn/issues/21755 */display: inline-block !important;position: relative;}#sk-container-id-1 div.sk-text-repr-fallback {display: none;}</style><div id=\"sk-container-id-1\" class=\"sk-top-container\"><div class=\"sk-text-repr-fallback\"><pre>RandomForestClassifier(random_state=42)</pre><b>In a Jupyter environment, please rerun this cell to show the HTML representation or trust the notebook. <br />On GitHub, the HTML representation is unable to render, please try loading this page with nbviewer.org.</b></div><div class=\"sk-container\" hidden><div class=\"sk-item\"><div class=\"sk-estimator sk-toggleable\"><input class=\"sk-toggleable__control sk-hidden--visually\" id=\"sk-estimator-id-1\" type=\"checkbox\" checked><label for=\"sk-estimator-id-1\" class=\"sk-toggleable__label sk-toggleable__label-arrow\">RandomForestClassifier</label><div class=\"sk-toggleable__content\"><pre>RandomForestClassifier(random_state=42)</pre></div></div></div></div></div>"
      ],
      "text/plain": [
       "RandomForestClassifier(random_state=42)"
      ]
     },
     "execution_count": 27,
     "metadata": {},
     "output_type": "execute_result"
    }
   ],
   "source": [
    "from sklearn.ensemble import RandomForestClassifier\n",
    "\n",
    "model=RandomForestClassifier(n_estimators=100,random_state=42)\n",
    "\n",
    "model.fit(X_train,y_train)"
   ]
  },
  {
   "cell_type": "code",
   "execution_count": 28,
   "metadata": {},
   "outputs": [],
   "source": [
    "from sklearn.metrics import precision_score,recall_score,jaccard_score\n",
    "y_pred = model.predict(X_test)\n",
    "#accuracy_score(y_test, y_pred)\n",
    "#precision=precision_score(y_test, y_pred)"
   ]
  },
  {
   "cell_type": "code",
   "execution_count": 29,
   "metadata": {},
   "outputs": [
    {
     "data": {
      "text/plain": [
       "array([  0, 255])"
      ]
     },
     "execution_count": 29,
     "metadata": {},
     "output_type": "execute_result"
    }
   ],
   "source": [
    "np.unique(y_pred)"
   ]
  },
  {
   "cell_type": "code",
   "execution_count": 30,
   "metadata": {},
   "outputs": [
    {
     "data": {
      "text/plain": [
       "array([  0, 255])"
      ]
     },
     "execution_count": 30,
     "metadata": {},
     "output_type": "execute_result"
    }
   ],
   "source": [
    "np.unique(y_test)"
   ]
  },
  {
   "cell_type": "code",
   "execution_count": 31,
   "metadata": {},
   "outputs": [
    {
     "data": {
      "text/plain": [
       "0.9477538687747163"
      ]
     },
     "execution_count": 31,
     "metadata": {},
     "output_type": "execute_result"
    }
   ],
   "source": [
    "recall_score(y_test,y_pred,pos_label=255)"
   ]
  },
  {
   "cell_type": "code",
   "execution_count": 32,
   "metadata": {},
   "outputs": [
    {
     "data": {
      "text/plain": [
       "0.9643193285830346"
      ]
     },
     "execution_count": 32,
     "metadata": {},
     "output_type": "execute_result"
    }
   ],
   "source": [
    "precision_score(y_test,y_pred,pos_label=255)"
   ]
  },
  {
   "cell_type": "code",
   "execution_count": 33,
   "metadata": {},
   "outputs": [
    {
     "data": {
      "text/plain": [
       "0.9156442974759373"
      ]
     },
     "execution_count": 33,
     "metadata": {},
     "output_type": "execute_result"
    }
   ],
   "source": [
    "jaccard_score(y_test,y_pred,pos_label=255)"
   ]
  },
  {
   "cell_type": "code",
   "execution_count": 34,
   "metadata": {},
   "outputs": [],
   "source": [
    "import pickle\n",
    "\n",
    "# save the model to disk\n",
    "filename = 'rf.sav'\n",
    "pickle.dump(model, open(filename, 'wb'))"
   ]
  },
  {
   "cell_type": "code",
   "execution_count": null,
   "metadata": {},
   "outputs": [],
   "source": []
  }
 ],
 "metadata": {
  "kernelspec": {
   "display_name": "VIP",
   "language": "python",
   "name": "vip"
  },
  "language_info": {
   "codemirror_mode": {
    "name": "ipython",
    "version": 3
   },
   "file_extension": ".py",
   "mimetype": "text/x-python",
   "name": "python",
   "nbconvert_exporter": "python",
   "pygments_lexer": "ipython3",
   "version": "3.11.6"
  }
 },
 "nbformat": 4,
 "nbformat_minor": 2
}
