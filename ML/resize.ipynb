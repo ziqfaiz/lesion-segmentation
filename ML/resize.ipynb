{
 "cells": [
  {
   "cell_type": "code",
   "execution_count": 2,
   "metadata": {},
   "outputs": [],
   "source": [
    "import numpy as np\n",
    "import cv2\n",
    "import pandas as pd\n",
    "import os"
   ]
  },
  {
   "cell_type": "code",
   "execution_count": 26,
   "metadata": {},
   "outputs": [
    {
     "name": "stdout",
     "output_type": "stream",
     "text": [
      "SL_001.jpg\n",
      "SL_002.jpg\n",
      "SL_003.jpg\n",
      "SL_004.jpg\n",
      "SL_005.jpg\n",
      "SL_006.jpg\n",
      "SL_007.jpg\n",
      "SL_008.jpg\n",
      "SL_009.jpg\n",
      "SL_010.jpg\n",
      "SL_011.jpg\n",
      "SL_012.jpg\n",
      "SL_013.jpg\n",
      "SL_014.jpg\n",
      "SL_015.jpg\n",
      "SL_016.jpg\n",
      "SL_017.jpg\n",
      "SL_018.jpg\n",
      "SL_019.jpg\n",
      "SL_020.jpg\n",
      "SL_021.jpg\n",
      "SL_022.jpg\n",
      "SL_023.jpg\n",
      "SL_024.jpg\n",
      "SL_025.jpg\n",
      "SL_026.jpg\n",
      "SL_027.jpg\n",
      "SL_028.jpg\n",
      "SL_029.jpg\n",
      "SL_030.jpg\n",
      "SL_031.jpg\n",
      "SL_032.jpg\n",
      "SL_033.jpg\n",
      "SL_034.jpg\n",
      "SL_035.jpg\n",
      "SL_036.jpg\n",
      "SL_037.jpg\n",
      "SL_038.jpg\n",
      "SL_039.jpg\n",
      "SL_040.jpg\n",
      "SL_041.jpg\n",
      "SL_042.jpg\n",
      "SL_043.jpg\n",
      "SL_044.jpg\n",
      "SL_045.jpg\n",
      "SL_046.jpg\n",
      "SL_047.jpg\n",
      "SL_048.jpg\n",
      "SL_049.jpg\n",
      "SL_050.jpg\n"
     ]
    }
   ],
   "source": [
    "image_dataset=pd.DataFrame(columns=[\"Image_Name\",\"Pixel_Values\"])\n",
    "\n",
    "img_path = \"train_images/\"\n",
    "for img_name in sorted(os.listdir(img_path)):\n",
    "    print(img_name)\n",
    "\n",
    "    #df=pd.DataFrame()\n",
    "    #df[\"Image_Name\"] = img_name\n",
    "\n",
    "    input_img=cv2.imread(img_path+img_name,0)\n",
    "    input_img=cv2.resize(input_img, (1050, 800))\n",
    "    filename= \"train_images_resize/\"+img_name\n",
    "    cv2.imwrite(filename=filename,img=input_img)\n",
    "\n",
    "    #Check if the image is RGB or grey and convert to grey if they are RGB\n",
    "    #if input_img.ndim==3 and input_img.shape[-1]==3:\n",
    "    #    img=cv2.cvtColor(input_img,cv2.COLOR_RGB2GRAY)\n",
    "    #elif input_img.dim==2:\n",
    "    #    img=input_img\n",
    "    #else:\n",
    "    #    raise Exception(\"Only work with RGB and grayscale images\")\n",
    "    \n",
    "    ###################################################################################################################################\n",
    "    # Add data into the dataframe\n",
    "    # The first feature is the pixel values\n",
    "\n",
    "    pixel_values=input_img.reshape(-1)\n",
    "    #df[\"Pixel_Values\"] = pixel_values\n",
    "    new_row={\"Image_Name\":img_name,\"Pixel_Values\":pixel_values}\n",
    "    image_dataset=pd.concat([image_dataset,pd.DataFrame([new_row])],ignore_index=True)"
   ]
  },
  {
   "cell_type": "code",
   "execution_count": 21,
   "metadata": {},
   "outputs": [
    {
     "name": "stdout",
     "output_type": "stream",
     "text": [
      "(1690500,)\n",
      "(1690500,)\n",
      "(1690500,)\n",
      "(1690500,)\n",
      "(1690500,)\n",
      "(1690500,)\n",
      "(1690500,)\n",
      "(1690500,)\n",
      "(1690500,)\n",
      "(1690500,)\n",
      "(1690500,)\n",
      "(1690500,)\n",
      "(1690500,)\n",
      "(1690500,)\n",
      "(1690500,)\n",
      "(1690500,)\n",
      "(1690500,)\n",
      "(1690500,)\n",
      "(1690500,)\n",
      "(1690500,)\n",
      "(1690500,)\n",
      "(1690500,)\n",
      "(1690500,)\n",
      "(1690500,)\n",
      "(1690500,)\n",
      "(1690500,)\n",
      "(1690500,)\n",
      "(1690500,)\n",
      "(1690500,)\n",
      "(1690500,)\n",
      "(1690500,)\n",
      "(1690500,)\n",
      "(1690500,)\n",
      "(1690500,)\n",
      "(1690500,)\n",
      "(1690500,)\n",
      "(1690500,)\n",
      "(1690500,)\n",
      "(1690500,)\n",
      "(1690500,)\n",
      "(1690500,)\n",
      "(1690500,)\n",
      "(1690500,)\n",
      "(1690500,)\n",
      "(1690500,)\n",
      "(1690500,)\n",
      "(1690500,)\n",
      "(1690500,)\n",
      "(1690500,)\n",
      "(1690500,)\n"
     ]
    }
   ],
   "source": [
    "for pixel in image_dataset[\"Pixel_Values\"]:\n",
    "    print(pixel.shape)"
   ]
  },
  {
   "cell_type": "code",
   "execution_count": 15,
   "metadata": {},
   "outputs": [
    {
     "data": {
      "text/plain": [
       "Index(['Pixel_Values', 'Gabor1', 'Gabor2', 'Gabor3', 'Gabor4', 'Gabor5',\n",
       "       'Gabor6', 'Gabor7', 'Gabor8', 'Gabor9', 'Gabor10', 'Gabor11', 'Gabor12',\n",
       "       'Gabor13', 'Gabor14', 'Gabor15', 'Gabor16', 'Gabor17', 'Gabor18',\n",
       "       'Gabor19', 'Gabor20', 'Gabor21', 'Gabor22', 'Gabor23', 'Gabor24',\n",
       "       'Gabor25', 'Gabor26', 'Gabor27', 'Gabor28', 'Gabor29', 'Gabor30',\n",
       "       'Gabor31', 'Gabor32', 'Canny_Edges', 'Roberts_Edges', 'Sobel_Edges',\n",
       "       'Scharr_Edges', 'Prewitt_Edges', 'Gaussian3_Edges', 'Gaussian7_Edges',\n",
       "       'Label_Value'],\n",
       "      dtype='object')"
      ]
     },
     "execution_count": 15,
     "metadata": {},
     "output_type": "execute_result"
    }
   ],
   "source": [
    "test = pd.read_csv(\"sane.csv\")\n",
    "\n",
    "test.columns"
   ]
  },
  {
   "cell_type": "code",
   "execution_count": 16,
   "metadata": {},
   "outputs": [],
   "source": [
    "columns = test.columns\n",
    "\n",
    "for _,i in test.iterrows():\n",
    "    for c in columns:\n",
    "        if i[c] !='(840000,)':\n",
    "            print(f\"Row:{i}, Column:{_}\")"
   ]
  },
  {
   "cell_type": "code",
   "execution_count": null,
   "metadata": {},
   "outputs": [],
   "source": []
  }
 ],
 "metadata": {
  "kernelspec": {
   "display_name": "VIP",
   "language": "python",
   "name": "vip"
  },
  "language_info": {
   "codemirror_mode": {
    "name": "ipython",
    "version": 3
   },
   "file_extension": ".py",
   "mimetype": "text/x-python",
   "name": "python",
   "nbconvert_exporter": "python",
   "pygments_lexer": "ipython3",
   "version": "3.11.6"
  }
 },
 "nbformat": 4,
 "nbformat_minor": 2
}
